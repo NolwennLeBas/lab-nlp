{
 "cells": [
  {
   "cell_type": "markdown",
   "metadata": {},
   "source": [
    "# Challenge 2: Sentiment Analysis\n",
    "\n",
    "In this challenge we will learn sentiment analysis and practice performing sentiment analysis on Twitter tweets. \n",
    "\n",
    "## Introduction\n",
    "\n",
    "Sentiment analysis is to *systematically identify, extract, quantify, and study affective states and subjective information* based on texts ([reference](https://en.wikipedia.org/wiki/Sentiment_analysis)). In simple words, it's to understand whether a person is happy or unhappy in producing the piece of text. Why we (or rather, companies) care about sentiment in texts? It's because by understanding the sentiments in texts, we will be able to know if our customers are happy or unhappy about our products and services. If they are unhappy, the subsequent action is to figure out what have caused the unhappiness and make improvements.\n",
    "\n",
    "Basic sentiment analysis only understands the *positive* or *negative* (sometimes *neutral* too) polarities of the sentiment. More advanced sentiment analysis will also consider dimensions such as agreement, subjectivity, confidence, irony, and so on. In this challenge we will conduct the basic positive vs negative sentiment analysis based on real Twitter tweets.\n",
    "\n",
    "NLTK comes with a [sentiment analysis package](https://www.nltk.org/api/nltk.sentiment.html). This package is great for dummies to perform sentiment analysis because it requires only the textual data to make predictions. For example:\n",
    "\n",
    "```python\n",
    ">>> from nltk.sentiment.vader import SentimentIntensityAnalyzer\n",
    ">>> txt = \"Ironhack is a Global Tech School ranked num 2 worldwide.  ",
    " ",
    "Our mission is to help people transform their careers and join a thriving community of tech professionals that love what they do.\"\n",
    ">>> analyzer = SentimentIntensityAnalyzer()\n",
    ">>> analyzer.polarity_scores(txt)\n",
    "{'neg': 0.0, 'neu': 0.741, 'pos': 0.259, 'compound': 0.8442}\n",
    "```\n",
    "\n",
    "In this challenge, however, you will not use NLTK's sentiment analysis package because in your Machine Learning training in the past 2 weeks you have learned how to make predictions more accurate than that. The [tweets data](https://www.kaggle.com/kazanova/sentiment140) we will be using today are already coded for the positive/negative sentiment. You will be able to use the Naïve Bayes classifier you learned in the lesson to predict the sentiment of tweets based on the labels."
   ]
  },
  {
   "cell_type": "markdown",
   "metadata": {},
   "source": [
    "## Conducting Sentiment Analysis\n",
    "\n",
    "### Loading and Exploring Data\n",
    "\n",
    "The dataset we'll be using today is located on Kaggle (https://www.kaggle.com/kazanova/sentiment140). Once you have downloaded and imported the dataset, it you will need to define the columns names: df.columns = ['target','id','date','flag','user','text']\n",
    "\n",
    "*Notes:* \n",
    "\n",
    "* The dataset is huuuuge (1.6m tweets). When you develop your data analysis codes, you can sample a subset of the data (e.g. 20k records) so that you will save a lot of time when you test your codes."
   ]
  },
  {
   "cell_type": "code",
   "execution_count": 1,
   "metadata": {},
   "outputs": [],
   "source": [
    "import pandas as pd\n",
    "\n",
    "import re\n",
    "import nltk\n",
    "from nltk.tokenize import word_tokenize\n",
    "from nltk.stem import WordNetLemmatizer \n",
    "from nltk.corpus import stopwords\n",
    "from sklearn.feature_extraction.text import CountVectorizer"
   ]
  },
  {
   "cell_type": "code",
   "execution_count": 2,
   "metadata": {},
   "outputs": [],
   "source": [
    "#importing dataset\n",
    "sentiment_1m= pd.read_csv('Sentiment140.csv')\n",
    "\n",
    "#subsetting 20000 random rows to test the code\n",
    "sentiment=sentiment_1m.sample(20000)"
   ]
  },
  {
   "cell_type": "code",
   "execution_count": 3,
   "metadata": {},
   "outputs": [
    {
     "data": {
      "text/html": [
       "<div>\n",
       "<style scoped>\n",
       "    .dataframe tbody tr th:only-of-type {\n",
       "        vertical-align: middle;\n",
       "    }\n",
       "\n",
       "    .dataframe tbody tr th {\n",
       "        vertical-align: top;\n",
       "    }\n",
       "\n",
       "    .dataframe thead th {\n",
       "        text-align: right;\n",
       "    }\n",
       "</style>\n",
       "<table border=\"1\" class=\"dataframe\">\n",
       "  <thead>\n",
       "    <tr style=\"text-align: right;\">\n",
       "      <th></th>\n",
       "      <th>target</th>\n",
       "      <th>ids</th>\n",
       "      <th>date</th>\n",
       "      <th>flag</th>\n",
       "      <th>user</th>\n",
       "      <th>text</th>\n",
       "    </tr>\n",
       "  </thead>\n",
       "  <tbody>\n",
       "    <tr>\n",
       "      <th>1174225</th>\n",
       "      <td>4</td>\n",
       "      <td>1980913023</td>\n",
       "      <td>Sun May 31 07:59:05 PDT 2009</td>\n",
       "      <td>NO_QUERY</td>\n",
       "      <td>jessmpaul</td>\n",
       "      <td>@thedirtyblonde  just about the cavs losing. N...</td>\n",
       "    </tr>\n",
       "    <tr>\n",
       "      <th>968231</th>\n",
       "      <td>4</td>\n",
       "      <td>1827845873</td>\n",
       "      <td>Sun May 17 11:34:07 PDT 2009</td>\n",
       "      <td>NO_QUERY</td>\n",
       "      <td>Oh_Sunshiine</td>\n",
       "      <td>@nhoustonreed Happy Birthday! Best Wishes  x</td>\n",
       "    </tr>\n",
       "    <tr>\n",
       "      <th>1514216</th>\n",
       "      <td>4</td>\n",
       "      <td>2175456600</td>\n",
       "      <td>Mon Jun 15 01:02:18 PDT 2009</td>\n",
       "      <td>NO_QUERY</td>\n",
       "      <td>AndiMann</td>\n",
       "      <td>60 slides w/ data and analysis of #virtualizat...</td>\n",
       "    </tr>\n",
       "    <tr>\n",
       "      <th>940085</th>\n",
       "      <td>4</td>\n",
       "      <td>1793851447</td>\n",
       "      <td>Thu May 14 04:12:00 PDT 2009</td>\n",
       "      <td>NO_QUERY</td>\n",
       "      <td>snixz</td>\n",
       "      <td>Hey welcome to twitter</td>\n",
       "    </tr>\n",
       "    <tr>\n",
       "      <th>871405</th>\n",
       "      <td>4</td>\n",
       "      <td>1678661550</td>\n",
       "      <td>Sat May 02 07:22:45 PDT 2009</td>\n",
       "      <td>NO_QUERY</td>\n",
       "      <td>HeatherShea</td>\n",
       "      <td>@Christy_wise Yeah, its cloudy here too... I a...</td>\n",
       "    </tr>\n",
       "    <tr>\n",
       "      <th>...</th>\n",
       "      <td>...</td>\n",
       "      <td>...</td>\n",
       "      <td>...</td>\n",
       "      <td>...</td>\n",
       "      <td>...</td>\n",
       "      <td>...</td>\n",
       "    </tr>\n",
       "    <tr>\n",
       "      <th>1240884</th>\n",
       "      <td>4</td>\n",
       "      <td>1993880436</td>\n",
       "      <td>Mon Jun 01 11:04:26 PDT 2009</td>\n",
       "      <td>NO_QUERY</td>\n",
       "      <td>logsplit818</td>\n",
       "      <td>@marcjohns Huge fan of your art,  actually fou...</td>\n",
       "    </tr>\n",
       "    <tr>\n",
       "      <th>1220110</th>\n",
       "      <td>4</td>\n",
       "      <td>1990013794</td>\n",
       "      <td>Mon Jun 01 03:35:24 PDT 2009</td>\n",
       "      <td>NO_QUERY</td>\n",
       "      <td>primaryposition</td>\n",
       "      <td>@ClaireBoyles thanks Claire - I'm building a p...</td>\n",
       "    </tr>\n",
       "    <tr>\n",
       "      <th>1253344</th>\n",
       "      <td>4</td>\n",
       "      <td>1996879117</td>\n",
       "      <td>Mon Jun 01 15:51:22 PDT 2009</td>\n",
       "      <td>NO_QUERY</td>\n",
       "      <td>AlexMorg</td>\n",
       "      <td>@perezhilton...ok ok i love june gloom! clouds...</td>\n",
       "    </tr>\n",
       "    <tr>\n",
       "      <th>1591436</th>\n",
       "      <td>4</td>\n",
       "      <td>2191565734</td>\n",
       "      <td>Tue Jun 16 05:32:21 PDT 2009</td>\n",
       "      <td>NO_QUERY</td>\n",
       "      <td>candymonsters</td>\n",
       "      <td>Is there any more application to join besides ...</td>\n",
       "    </tr>\n",
       "    <tr>\n",
       "      <th>743405</th>\n",
       "      <td>0</td>\n",
       "      <td>2266834061</td>\n",
       "      <td>Sun Jun 21 09:10:37 PDT 2009</td>\n",
       "      <td>NO_QUERY</td>\n",
       "      <td>erika_jeann</td>\n",
       "      <td>I hate being torn between something that may ...</td>\n",
       "    </tr>\n",
       "  </tbody>\n",
       "</table>\n",
       "<p>20000 rows × 6 columns</p>\n",
       "</div>"
      ],
      "text/plain": [
       "         target         ids                          date      flag  \\\n",
       "1174225       4  1980913023  Sun May 31 07:59:05 PDT 2009  NO_QUERY   \n",
       "968231        4  1827845873  Sun May 17 11:34:07 PDT 2009  NO_QUERY   \n",
       "1514216       4  2175456600  Mon Jun 15 01:02:18 PDT 2009  NO_QUERY   \n",
       "940085        4  1793851447  Thu May 14 04:12:00 PDT 2009  NO_QUERY   \n",
       "871405        4  1678661550  Sat May 02 07:22:45 PDT 2009  NO_QUERY   \n",
       "...         ...         ...                           ...       ...   \n",
       "1240884       4  1993880436  Mon Jun 01 11:04:26 PDT 2009  NO_QUERY   \n",
       "1220110       4  1990013794  Mon Jun 01 03:35:24 PDT 2009  NO_QUERY   \n",
       "1253344       4  1996879117  Mon Jun 01 15:51:22 PDT 2009  NO_QUERY   \n",
       "1591436       4  2191565734  Tue Jun 16 05:32:21 PDT 2009  NO_QUERY   \n",
       "743405        0  2266834061  Sun Jun 21 09:10:37 PDT 2009  NO_QUERY   \n",
       "\n",
       "                    user                                               text  \n",
       "1174225        jessmpaul  @thedirtyblonde  just about the cavs losing. N...  \n",
       "968231      Oh_Sunshiine       @nhoustonreed Happy Birthday! Best Wishes  x  \n",
       "1514216         AndiMann  60 slides w/ data and analysis of #virtualizat...  \n",
       "940085             snixz                            Hey welcome to twitter   \n",
       "871405       HeatherShea  @Christy_wise Yeah, its cloudy here too... I a...  \n",
       "...                  ...                                                ...  \n",
       "1240884      logsplit818  @marcjohns Huge fan of your art,  actually fou...  \n",
       "1220110  primaryposition  @ClaireBoyles thanks Claire - I'm building a p...  \n",
       "1253344         AlexMorg  @perezhilton...ok ok i love june gloom! clouds...  \n",
       "1591436    candymonsters  Is there any more application to join besides ...  \n",
       "743405       erika_jeann   I hate being torn between something that may ...  \n",
       "\n",
       "[20000 rows x 6 columns]"
      ]
     },
     "execution_count": 3,
     "metadata": {},
     "output_type": "execute_result"
    }
   ],
   "source": [
    "sentiment\n",
    "#column names seems pretty okay so I won't redefine it"
   ]
  },
  {
   "cell_type": "markdown",
   "metadata": {},
   "source": [
    "### Prepare Textual Data for Sentiment Analysis\n",
    "\n",
    "Now, apply the functions you have written in Challenge 1 to your whole data set. These functions include:\n",
    "\n",
    "* `clean_up()`\n",
    "\n",
    "* `tokenize()`\n",
    "\n",
    "* `stem_and_lemmatize()`\n",
    "\n",
    "* `remove_stopwords()`\n",
    "\n",
    "Create a new column called `text_processed` in the dataframe to contain the processed data. At the end, your `text_processed` column should contain lists of word tokens that are cleaned up. Your data should look like below:\n",
    "\n",
    "![Processed Data](data-cleaning-results.png)"
   ]
  },
  {
   "cell_type": "code",
   "execution_count": 4,
   "metadata": {},
   "outputs": [],
   "source": [
    "#copying the functions (I didn't pickle them because I want to be able to modify them, only in this notebook, if necessary)\n",
    "def clean_up(s):\n",
    "    \"\"\"\n",
    "    Cleans up numbers, URLs, and special characters from a string.\n",
    "    \"\"\"\n",
    "    pattern = 'http?:\\/\\/.*?[\\s+]|@|\\[(.*)\\]|776-'\n",
    "    s_new = re.sub(pattern,'',s)\n",
    "    pattern_2 = \"-#|'\"\n",
    "    s_new = re.sub(pattern_2,' ',s_new)\n",
    "    pattern_3 = ' \"\\)'\n",
    "    s_new = re.sub(pattern_3,'',s_new)\n",
    "    return s_new.lower()\n",
    "\n",
    "def tokenize(s):\n",
    "    \"\"\"\n",
    "    Tokenize a string.\n",
    "    \"\"\"\n",
    "    tokens = word_tokenize(s)\n",
    "    tokens = [word for word in tokens if word.isalnum()]\n",
    "    return tokens\n",
    "\n",
    "def lemmatize(l):\n",
    "    \"\"\"\n",
    "    Perform stemming and lemmatization on a list of words.\n",
    "    \"\"\"\n",
    "    lemmatizer = WordNetLemmatizer()\n",
    "    lemmatized = [lemmatizer.lemmatize(word) for word in l]\n",
    "    return lemmatized\n",
    "\n",
    "def remove_stopwords(l):\n",
    "    \"\"\"\n",
    "    Remove English stopwords from a list of strings.\n",
    "    \"\"\"\n",
    "    without_sw = [word for word in l if not word in stopwords.words('english')]\n",
    "    return without_sw"
   ]
  },
  {
   "cell_type": "code",
   "execution_count": 5,
   "metadata": {},
   "outputs": [
    {
     "data": {
      "text/html": [
       "<div>\n",
       "<style scoped>\n",
       "    .dataframe tbody tr th:only-of-type {\n",
       "        vertical-align: middle;\n",
       "    }\n",
       "\n",
       "    .dataframe tbody tr th {\n",
       "        vertical-align: top;\n",
       "    }\n",
       "\n",
       "    .dataframe thead th {\n",
       "        text-align: right;\n",
       "    }\n",
       "</style>\n",
       "<table border=\"1\" class=\"dataframe\">\n",
       "  <thead>\n",
       "    <tr style=\"text-align: right;\">\n",
       "      <th></th>\n",
       "      <th>target</th>\n",
       "      <th>ids</th>\n",
       "      <th>date</th>\n",
       "      <th>flag</th>\n",
       "      <th>user</th>\n",
       "      <th>text</th>\n",
       "      <th>text_processed</th>\n",
       "    </tr>\n",
       "  </thead>\n",
       "  <tbody>\n",
       "    <tr>\n",
       "      <th>1174225</th>\n",
       "      <td>4</td>\n",
       "      <td>1980913023</td>\n",
       "      <td>Sun May 31 07:59:05 PDT 2009</td>\n",
       "      <td>NO_QUERY</td>\n",
       "      <td>jessmpaul</td>\n",
       "      <td>@thedirtyblonde  just about the cavs losing. N...</td>\n",
       "      <td>[thedirtyblonde, cavs, losing, nothing, real, ...</td>\n",
       "    </tr>\n",
       "    <tr>\n",
       "      <th>968231</th>\n",
       "      <td>4</td>\n",
       "      <td>1827845873</td>\n",
       "      <td>Sun May 17 11:34:07 PDT 2009</td>\n",
       "      <td>NO_QUERY</td>\n",
       "      <td>Oh_Sunshiine</td>\n",
       "      <td>@nhoustonreed Happy Birthday! Best Wishes  x</td>\n",
       "      <td>[nhoustonreed, happy, birthday, best, wish, x]</td>\n",
       "    </tr>\n",
       "    <tr>\n",
       "      <th>1514216</th>\n",
       "      <td>4</td>\n",
       "      <td>2175456600</td>\n",
       "      <td>Mon Jun 15 01:02:18 PDT 2009</td>\n",
       "      <td>NO_QUERY</td>\n",
       "      <td>AndiMann</td>\n",
       "      <td>60 slides w/ data and analysis of #virtualizat...</td>\n",
       "      <td>[60, slide, data, analysis, virtualization, ma...</td>\n",
       "    </tr>\n",
       "    <tr>\n",
       "      <th>940085</th>\n",
       "      <td>4</td>\n",
       "      <td>1793851447</td>\n",
       "      <td>Thu May 14 04:12:00 PDT 2009</td>\n",
       "      <td>NO_QUERY</td>\n",
       "      <td>snixz</td>\n",
       "      <td>Hey welcome to twitter</td>\n",
       "      <td>[hey, welcome, twitter]</td>\n",
       "    </tr>\n",
       "    <tr>\n",
       "      <th>871405</th>\n",
       "      <td>4</td>\n",
       "      <td>1678661550</td>\n",
       "      <td>Sat May 02 07:22:45 PDT 2009</td>\n",
       "      <td>NO_QUERY</td>\n",
       "      <td>HeatherShea</td>\n",
       "      <td>@Christy_wise Yeah, its cloudy here too... I a...</td>\n",
       "      <td>[yeah, cloudy, going, work, today, fun, day, d...</td>\n",
       "    </tr>\n",
       "    <tr>\n",
       "      <th>...</th>\n",
       "      <td>...</td>\n",
       "      <td>...</td>\n",
       "      <td>...</td>\n",
       "      <td>...</td>\n",
       "      <td>...</td>\n",
       "      <td>...</td>\n",
       "      <td>...</td>\n",
       "    </tr>\n",
       "    <tr>\n",
       "      <th>1240884</th>\n",
       "      <td>4</td>\n",
       "      <td>1993880436</td>\n",
       "      <td>Mon Jun 01 11:04:26 PDT 2009</td>\n",
       "      <td>NO_QUERY</td>\n",
       "      <td>logsplit818</td>\n",
       "      <td>@marcjohns Huge fan of your art,  actually fou...</td>\n",
       "      <td>[marcjohns, huge, fan, art, actually, found, s...</td>\n",
       "    </tr>\n",
       "    <tr>\n",
       "      <th>1220110</th>\n",
       "      <td>4</td>\n",
       "      <td>1990013794</td>\n",
       "      <td>Mon Jun 01 03:35:24 PDT 2009</td>\n",
       "      <td>NO_QUERY</td>\n",
       "      <td>primaryposition</td>\n",
       "      <td>@ClaireBoyles thanks Claire - I'm building a p...</td>\n",
       "      <td>[claireboyles, thanks, claire, building, bunke...</td>\n",
       "    </tr>\n",
       "    <tr>\n",
       "      <th>1253344</th>\n",
       "      <td>4</td>\n",
       "      <td>1996879117</td>\n",
       "      <td>Mon Jun 01 15:51:22 PDT 2009</td>\n",
       "      <td>NO_QUERY</td>\n",
       "      <td>AlexMorg</td>\n",
       "      <td>@perezhilton...ok ok i love june gloom! clouds...</td>\n",
       "      <td>[perezhilton, ok, ok, love, june, gloom, cloud...</td>\n",
       "    </tr>\n",
       "    <tr>\n",
       "      <th>1591436</th>\n",
       "      <td>4</td>\n",
       "      <td>2191565734</td>\n",
       "      <td>Tue Jun 16 05:32:21 PDT 2009</td>\n",
       "      <td>NO_QUERY</td>\n",
       "      <td>candymonsters</td>\n",
       "      <td>Is there any more application to join besides ...</td>\n",
       "      <td>[application, join, besides, twitter, hmmmmm, ...</td>\n",
       "    </tr>\n",
       "    <tr>\n",
       "      <th>743405</th>\n",
       "      <td>0</td>\n",
       "      <td>2266834061</td>\n",
       "      <td>Sun Jun 21 09:10:37 PDT 2009</td>\n",
       "      <td>NO_QUERY</td>\n",
       "      <td>erika_jeann</td>\n",
       "      <td>I hate being torn between something that may ...</td>\n",
       "      <td>[hate, torn, something, may, need, done, somet...</td>\n",
       "    </tr>\n",
       "  </tbody>\n",
       "</table>\n",
       "<p>20000 rows × 7 columns</p>\n",
       "</div>"
      ],
      "text/plain": [
       "         target         ids                          date      flag  \\\n",
       "1174225       4  1980913023  Sun May 31 07:59:05 PDT 2009  NO_QUERY   \n",
       "968231        4  1827845873  Sun May 17 11:34:07 PDT 2009  NO_QUERY   \n",
       "1514216       4  2175456600  Mon Jun 15 01:02:18 PDT 2009  NO_QUERY   \n",
       "940085        4  1793851447  Thu May 14 04:12:00 PDT 2009  NO_QUERY   \n",
       "871405        4  1678661550  Sat May 02 07:22:45 PDT 2009  NO_QUERY   \n",
       "...         ...         ...                           ...       ...   \n",
       "1240884       4  1993880436  Mon Jun 01 11:04:26 PDT 2009  NO_QUERY   \n",
       "1220110       4  1990013794  Mon Jun 01 03:35:24 PDT 2009  NO_QUERY   \n",
       "1253344       4  1996879117  Mon Jun 01 15:51:22 PDT 2009  NO_QUERY   \n",
       "1591436       4  2191565734  Tue Jun 16 05:32:21 PDT 2009  NO_QUERY   \n",
       "743405        0  2266834061  Sun Jun 21 09:10:37 PDT 2009  NO_QUERY   \n",
       "\n",
       "                    user                                               text  \\\n",
       "1174225        jessmpaul  @thedirtyblonde  just about the cavs losing. N...   \n",
       "968231      Oh_Sunshiine       @nhoustonreed Happy Birthday! Best Wishes  x   \n",
       "1514216         AndiMann  60 slides w/ data and analysis of #virtualizat...   \n",
       "940085             snixz                            Hey welcome to twitter    \n",
       "871405       HeatherShea  @Christy_wise Yeah, its cloudy here too... I a...   \n",
       "...                  ...                                                ...   \n",
       "1240884      logsplit818  @marcjohns Huge fan of your art,  actually fou...   \n",
       "1220110  primaryposition  @ClaireBoyles thanks Claire - I'm building a p...   \n",
       "1253344         AlexMorg  @perezhilton...ok ok i love june gloom! clouds...   \n",
       "1591436    candymonsters  Is there any more application to join besides ...   \n",
       "743405       erika_jeann   I hate being torn between something that may ...   \n",
       "\n",
       "                                            text_processed  \n",
       "1174225  [thedirtyblonde, cavs, losing, nothing, real, ...  \n",
       "968231      [nhoustonreed, happy, birthday, best, wish, x]  \n",
       "1514216  [60, slide, data, analysis, virtualization, ma...  \n",
       "940085                             [hey, welcome, twitter]  \n",
       "871405   [yeah, cloudy, going, work, today, fun, day, d...  \n",
       "...                                                    ...  \n",
       "1240884  [marcjohns, huge, fan, art, actually, found, s...  \n",
       "1220110  [claireboyles, thanks, claire, building, bunke...  \n",
       "1253344  [perezhilton, ok, ok, love, june, gloom, cloud...  \n",
       "1591436  [application, join, besides, twitter, hmmmmm, ...  \n",
       "743405   [hate, torn, something, may, need, done, somet...  \n",
       "\n",
       "[20000 rows x 7 columns]"
      ]
     },
     "execution_count": 5,
     "metadata": {},
     "output_type": "execute_result"
    }
   ],
   "source": [
    "#running the functions on the subset of 20000 rows to check the output\n",
    "sentiment[\"text_processed\"]=sentiment[\"text\"].apply(clean_up)\n",
    "sentiment[\"text_processed\"]=sentiment[\"text_processed\"].apply(tokenize)\n",
    "sentiment[\"text_processed\"]=sentiment[\"text_processed\"].apply(lemmatize)\n",
    "sentiment[\"text_processed\"]=sentiment[\"text_processed\"].apply(remove_stopwords)\n",
    "sentiment"
   ]
  },
  {
   "cell_type": "code",
   "execution_count": 6,
   "metadata": {},
   "outputs": [],
   "source": [
    "#applying the functions to the original dataset\n",
    "# sentiment_1m[\"text_processed\"]=sentiment_1m[\"text\"].apply(clean_up)\n",
    "# sentiment_1m[\"text_processed\"]=sentiment_1m[\"text_processed\"].apply(tokenize)\n",
    "# sentiment_1m[\"text_processed\"]=sentiment_1m[\"text_processed\"].apply(lemmatize)\n",
    "# sentiment_1m[\"text_processed\"]=sentiment_1m[\"text_processed\"].apply(remove_stopwords)"
   ]
  },
  {
   "cell_type": "markdown",
   "metadata": {},
   "source": [
    "### Creating Bag of Words\n",
    "\n",
    "The purpose of this step is to create a [bag of words](https://en.wikipedia.org/wiki/Bag-of-words_model) from the processed data. The bag of words contains all the unique words in your whole text body (a.k.a. *corpus*) with the number of occurrence of each word. It will allow you to understand which words are the most important features across the whole corpus.\n",
    "\n",
    "Also, you can imagine you will have a massive set of words. The less important words (i.e. those of very low number of occurrence) do not contribute much to the sentiment. Therefore, you only need to use the most important words to build your feature set in the next step. In our case, we will use the top 5,000 words with the highest frequency to build the features.\n",
    "\n",
    "In the cell below, combine all the words in `text_processed` and calculate the frequency distribution of all words. A convenient library to calculate the term frequency distribution is NLTK's `FreqDist` class ([documentation](https://www.nltk.org/api/nltk.html#module-nltk.probability)). Then select the top 5,000 words from the frequency distribution."
   ]
  },
  {
   "cell_type": "code",
   "execution_count": 11,
   "metadata": {},
   "outputs": [
    {
     "data": {
      "text/plain": [
       "151765"
      ]
     },
     "execution_count": 11,
     "metadata": {},
     "output_type": "execute_result"
    }
   ],
   "source": [
    "#creating a list with all words of the dataset\n",
    "all_words=[]\n",
    "for text in sentiment[\"text_processed\"]:\n",
    "    all_words.extend(text)\n",
    "\n",
    "len(all_words)"
   ]
  },
  {
   "cell_type": "code",
   "execution_count": 12,
   "metadata": {},
   "outputs": [
    {
     "data": {
      "text/plain": [
       "5000"
      ]
     },
     "execution_count": 12,
     "metadata": {},
     "output_type": "execute_result"
    }
   ],
   "source": [
    "from nltk import FreqDist\n",
    "fdist = FreqDist(all_words)\n",
    "top_5000 = fdist.most_common(5000)\n",
    "len(top_5000)"
   ]
  },
  {
   "cell_type": "code",
   "execution_count": 13,
   "metadata": {},
   "outputs": [
    {
     "data": {
      "text/plain": [
       "[('day', 1321),\n",
       " ('wa', 1242),\n",
       " ('good', 1118),\n",
       " ('get', 1084),\n",
       " ('go', 1050),\n",
       " ('like', 1014),\n",
       " ('u', 905),\n",
       " ('quot', 901),\n",
       " ('love', 874),\n",
       " ('work', 872)]"
      ]
     },
     "execution_count": 13,
     "metadata": {},
     "output_type": "execute_result"
    }
   ],
   "source": [
    "top_5000[:10]"
   ]
  },
  {
   "cell_type": "markdown",
   "metadata": {},
   "source": [
    "### Building Features\n",
    "\n",
    "Now let's build the features. Using the top 5,000 words, create a 2-dimensional matrix to record whether each of those words is contained in each document (tweet). Then you also have an output column to indicate whether the sentiment in each tweet is positive. For example, assuming your bag of words has 5 items (`['one', 'two', 'three', 'four', 'five']`) out of 4 documents (`['A', 'B', 'C', 'D']`), your feature set is essentially:\n",
    "\n",
    "| Doc | one | two | three | four | five | is_positive |\n",
    "|---|---|---|---|---|---|---|\n",
    "| A | True | False | False | True | False | True |\n",
    "| B | False | False | False | True | True | False |\n",
    "| C | False | True | False | False | False | True |\n",
    "| D | True | False | False | False | True | False|\n",
    "\n",
    "However, because the `nltk.NaiveBayesClassifier.train` class we will use in the next step does not work with Pandas dataframe, the structure of your feature set should be converted to the Python list looking like below:\n",
    "\n",
    "```python\n",
    "[\n",
    "\t({\n",
    "\t\t'one': True,\n",
    "\t\t'two': False,\n",
    "\t\t'three': False,\n",
    "\t\t'four': True,\n",
    "\t\t'five': False\n",
    "\t}, True),\n",
    "\t({\n",
    "\t\t'one': False,\n",
    "\t\t'two': False,\n",
    "\t\t'three': False,\n",
    "\t\t'four': True,\n",
    "\t\t'five': True\n",
    "\t}, False),\n",
    "\t({\n",
    "\t\t'one': False,\n",
    "\t\t'two': True,\n",
    "\t\t'three': False,\n",
    "\t\t'four': False,\n",
    "\t\t'five': False\n",
    "\t}, True),\n",
    "\t({\n",
    "\t\t'one': True,\n",
    "\t\t'two': False,\n",
    "\t\t'three': False,\n",
    "\t\t'four': False,\n",
    "\t\t'five': True\n",
    "\t}, False)\n",
    "]\n",
    "```\n",
    "\n",
    "To help you in this step, watch the [following video](https://www.youtube.com/watch?v=-vVskDsHcVc) to learn how to build the feature set with Python and NLTK. The source code in this video can be found [here](https://pythonprogramming.net/words-as-features-nltk-tutorial/)."
   ]
  },
  {
   "cell_type": "markdown",
   "metadata": {},
   "source": [
    "[![Building Features](building-features.jpg)](https://www.youtube.com/watch?v=-vVskDsHcVc)"
   ]
  },
  {
   "cell_type": "code",
   "execution_count": 17,
   "metadata": {},
   "outputs": [
    {
     "data": {
      "text/plain": [
       "['day', 'wa', 'good', 'get', 'go', 'like', 'u', 'quot', 'love', 'work']"
      ]
     },
     "execution_count": 17,
     "metadata": {},
     "output_type": "execute_result"
    }
   ],
   "source": [
    "#extracting features from our top_5000 words\n",
    "word_features = []\n",
    "for items in top_5000:\n",
    "    word_features.append(items[0])\n",
    "    \n",
    "word_features[:10]"
   ]
  },
  {
   "cell_type": "code",
   "execution_count": 18,
   "metadata": {},
   "outputs": [],
   "source": [
    "#setting a function to find if a feature word is present(True) or not (False) in our text\n",
    "def find_features(text_processed):\n",
    "    words = set(text_processed)\n",
    "    features = {}\n",
    "    for w in word_features:\n",
    "        features[w] = (w in words)\n",
    "    return features"
   ]
  },
  {
   "cell_type": "code",
   "execution_count": null,
   "metadata": {},
   "outputs": [],
   "source": []
  },
  {
   "cell_type": "markdown",
   "metadata": {},
   "source": [
    "### Building and Traininng Naive Bayes Model\n",
    "\n",
    "In this step you will split your feature set into a training and a test set. Then you will create a Bayes classifier instance using `nltk.NaiveBayesClassifier.train` ([example](https://www.nltk.org/book/ch06.html)) to train with the training dataset.\n",
    "\n",
    "After training the model, call `classifier.show_most_informative_features()` to inspect the most important features. The output will look like:\n",
    "\n",
    "```\n",
    "Most Informative Features\n",
    "\t    snow = True            False : True   =     34.3 : 1.0\n",
    "\t  easter = True            False : True   =     26.2 : 1.0\n",
    "\t headach = True            False : True   =     20.9 : 1.0\n",
    "\t    argh = True            False : True   =     17.6 : 1.0\n",
    "\tunfortun = True            False : True   =     16.9 : 1.0\n",
    "\t    jona = True             True : False  =     16.2 : 1.0\n",
    "\t     ach = True            False : True   =     14.9 : 1.0\n",
    "\t     sad = True            False : True   =     13.0 : 1.0\n",
    "\t  parent = True            False : True   =     12.9 : 1.0\n",
    "\t  spring = True            False : True   =     12.7 : 1.0\n",
    "```\n",
    "\n",
    "The [following video](https://www.youtube.com/watch?v=rISOsUaTrO4) will help you complete this step. The source code in this video can be found [here](https://pythonprogramming.net/naive-bayes-classifier-nltk-tutorial/)."
   ]
  },
  {
   "cell_type": "markdown",
   "metadata": {},
   "source": [
    "[![Building and Training NB](nb-model-building.jpg)](https://www.youtube.com/watch?v=rISOsUaTrO4)"
   ]
  },
  {
   "cell_type": "code",
   "execution_count": null,
   "metadata": {},
   "outputs": [],
   "source": [
    "# your code here"
   ]
  },
  {
   "cell_type": "markdown",
   "metadata": {},
   "source": [
    "### Testing Naive Bayes Model\n",
    "\n",
    "Now we'll test our classifier with the test dataset. This is done by calling `nltk.classify.accuracy(classifier, test)`.\n",
    "\n",
    "As mentioned in one of the tutorial videos, a Naive Bayes model is considered OK if your accuracy score is over 0.6. If your accuracy score is over 0.7, you've done a great job!"
   ]
  },
  {
   "cell_type": "code",
   "execution_count": null,
   "metadata": {},
   "outputs": [],
   "source": [
    "# your code here"
   ]
  },
  {
   "cell_type": "markdown",
   "metadata": {},
   "source": [
    "## Bonus Question 1: Improve Model Performance\n",
    "\n",
    "If you are still not exhausted so far and want to dig deeper, try to improve your classifier performance. There are many aspects you can dig into, for example:\n",
    "\n",
    "* Improve stemming and lemmatization. Inspect your bag of words and the most important features. Are there any words you should furuther remove from analysis? You can append these words to further remove to the stop words list.\n",
    "\n",
    "* Remember we only used the top 5,000 features to build model? Try using different numbers of top features. The bottom line is to use as few features as you can without compromising your model performance. The fewer features you select into your model, the faster your model is trained. Then you can use a larger sample size to improve your model accuracy score."
   ]
  },
  {
   "cell_type": "code",
   "execution_count": null,
   "metadata": {},
   "outputs": [],
   "source": [
    "# your code here"
   ]
  },
  {
   "cell_type": "markdown",
   "metadata": {},
   "source": [
    "## Bonus Question 2: Machine Learning Pipeline\n",
    "\n",
    "In a new Jupyter Notebook, combine all your codes into a function (or a class). Your new function will execute the complete machine learning pipeline job by receiving the dataset location and output the classifier. This will allow you to use your function to predict the sentiment of any tweet in real time. "
   ]
  },
  {
   "cell_type": "code",
   "execution_count": null,
   "metadata": {},
   "outputs": [],
   "source": [
    "# your code here"
   ]
  },
  {
   "cell_type": "markdown",
   "metadata": {},
   "source": [
    "## Bonus Question 3: Apache Spark\n",
    "\n",
    "If you have completed the Apache Spark advanced topic lab, what you can do is to migrate your pipeline from local to a Databricks Notebook. Share your notebook with your instructor and classmates to show off your achievements!"
   ]
  },
  {
   "cell_type": "code",
   "execution_count": null,
   "metadata": {},
   "outputs": [],
   "source": [
    "# your code here"
   ]
  }
 ],
 "metadata": {
  "kernelspec": {
   "display_name": "Python 3 (ipykernel)",
   "language": "python",
   "name": "python3"
  },
  "language_info": {
   "codemirror_mode": {
    "name": "ipython",
    "version": 3
   },
   "file_extension": ".py",
   "mimetype": "text/x-python",
   "name": "python",
   "nbconvert_exporter": "python",
   "pygments_lexer": "ipython3",
   "version": "3.11.7"
  }
 },
 "nbformat": 4,
 "nbformat_minor": 2
}
